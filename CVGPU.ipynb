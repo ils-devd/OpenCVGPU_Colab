{
  "nbformat": 4,
  "nbformat_minor": 0,
  "metadata": {
    "colab": {
      "name": "CVGPU.ipynb",
      "provenance": [],
      "collapsed_sections": [],
      "toc_visible": true,
      "authorship_tag": "ABX9TyMwuT+3blHlgUeQqqFDpNR0",
      "include_colab_link": true
    },
    "kernelspec": {
      "name": "python3",
      "display_name": "Python 3"
    },
    "language_info": {
      "name": "python"
    },
    "accelerator": "GPU"
  },
  "cells": [
    {
      "cell_type": "markdown",
      "metadata": {
        "id": "view-in-github",
        "colab_type": "text"
      },
      "source": [
        "<a href=\"https://colab.research.google.com/github/ils-devd/OpenCVGPU_Colab/blob/main/CVGPU.ipynb\" target=\"_parent\"><img src=\"https://colab.research.google.com/assets/colab-badge.svg\" alt=\"Open In Colab\"/></a>"
      ]
    },
    {
      "cell_type": "markdown",
      "metadata": {
        "id": "e_7RnHy_JznH"
      },
      "source": [
        "**1. Check OpenCV version**"
      ]
    },
    {
      "cell_type": "code",
      "metadata": {
        "id": "HW8SWF8-IkJu"
      },
      "source": [
        "import cv2\n",
        "cv2.__version__"
      ],
      "execution_count": null,
      "outputs": []
    },
    {
      "cell_type": "markdown",
      "metadata": {
        "id": "rZZOqr8uKJ97"
      },
      "source": [
        "**2. Build OpenCV with GPU Support. Note - Select Hardware acceleration as GPU before running.**"
      ]
    },
    {
      "cell_type": "code",
      "metadata": {
        "id": "zZW_mbMoKbbj"
      },
      "source": [
        "%cd /content\n",
        "!git clone https://github.com/opencv/opencv\n",
        "!git clone https://github.com/opencv/opencv_contrib\n",
        "!mkdir /content/build\n",
        "%cd /content/build\n",
        "!cmake -DOPENCV_EXTRA_MODULES_PATH=/content/opencv_contrib/modules -DPython3_EXECUTABLE=/usr/bin/python3.7 -DBUILD_SHARED_LIBS=OFF  -DBUILD_TESTS=OFF  -DBUILD_PERF_TESTS=OFF -DBUILD_EXAMPLES=OFF -DWITH_OPENEXR=OFF -DWITH_CUDA=ON -DWITH_CUBLAS=ON -DWITH_CUDNN=ON -DOPENCV_DNN_CUDA=ON /content/opencv\n",
        "!make -j8 install"
      ],
      "execution_count": null,
      "outputs": []
    },
    {
      "cell_type": "markdown",
      "metadata": {
        "id": "0YAKHAvNK0FV"
      },
      "source": [
        "**This process will take time**"
      ]
    },
    {
      "cell_type": "markdown",
      "metadata": {
        "id": "oPkYb4pwK5H0"
      },
      "source": [
        "**3. Check OpenCV version again. It should be 4.5**"
      ]
    },
    {
      "cell_type": "code",
      "metadata": {
        "id": "IhO3qPr3LNT4"
      },
      "source": [
        "import cv2\n",
        "cv2.__version__"
      ],
      "execution_count": null,
      "outputs": []
    },
    {
      "cell_type": "markdown",
      "metadata": {
        "id": "KzJ_rmvTLdld"
      },
      "source": [
        "**Save the build file in Drive.**\n",
        "\n",
        "\n",
        "1.   Mount Drive before proceeding.\n",
        "2.   Click on the folder icon on left panel > Mount Drive\n",
        "\n"
      ]
    },
    {
      "cell_type": "code",
      "metadata": {
        "id": "3zA-scBJMUMU"
      },
      "source": [
        "!mkdir  \"/content/drive/My Drive/cv2_gpu\"\n",
        "!cp  /content/build/lib/python3/cv2.cpython-36m-x86_64-linux-gnu.so   \"/content/drive/My Drive/cv2_gpu\""
      ],
      "execution_count": null,
      "outputs": []
    },
    {
      "cell_type": "markdown",
      "metadata": {
        "id": "i3jjyJ1qNCsG"
      },
      "source": [
        "Use this command next time when notebook is opened\n",
        "\n",
        "!cp \"/content/gdrive/My Drive/cv2_gpu/cv2.cpython-36m-x86_64-linux-gnu.so\" ."
      ]
    }
  ]
}